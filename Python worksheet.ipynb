{
 "cells": [
  {
   "cell_type": "code",
   "execution_count": null,
   "id": "9bda580a",
   "metadata": {},
   "outputs": [],
   "source": [
    "#Write a python program to find the factorial of a number"
   ]
  },
  {
   "cell_type": "code",
   "execution_count": 16,
   "id": "47476232",
   "metadata": {},
   "outputs": [
    {
     "name": "stdout",
     "output_type": "stream",
     "text": [
      "enter the number:-9\n",
      "cant compute factorial for negative numbers\n"
     ]
    }
   ],
   "source": [
    "number =int(input(\"enter the number:\"))\n",
    "\n",
    "factorial=1\n",
    "\n",
    "if(number < 0):\n",
    "    print(\"cant compute factorial for negative numbers\")\n",
    "elif (number < 2):\n",
    "    print(\"{}!={}\".format(number,factorial))\n",
    "else:\n",
    "    for num in range (number,1,-1):\n",
    "        factorial= factorial * num\n",
    "    print(\"{}!={}\".format(number,factorial))"
   ]
  },
  {
   "cell_type": "code",
   "execution_count": 17,
   "id": "01015856",
   "metadata": {},
   "outputs": [
    {
     "name": "stdout",
     "output_type": "stream",
     "text": [
      "enter the number:5\n",
      "5!=120\n"
     ]
    }
   ],
   "source": [
    "number =int(input(\"enter the number:\"))\n",
    "\n",
    "factorial=1\n",
    "\n",
    "if(number < 0):\n",
    "    print(\"cant compute factorial for negative numbers\")\n",
    "elif (number < 2):\n",
    "    print(\"{}!={}\".format(number,factorial))\n",
    "else:\n",
    "    for num in range (number,1,-1):\n",
    "        factorial= factorial * num\n",
    "    print(\"{}!={}\".format(number,factorial))"
   ]
  },
  {
   "cell_type": "code",
   "execution_count": null,
   "id": "dfe1274c",
   "metadata": {},
   "outputs": [],
   "source": [
    "#Write a python program to find whether a number is prime or composite"
   ]
  },
  {
   "cell_type": "code",
   "execution_count": 3,
   "id": "02c59d64",
   "metadata": {},
   "outputs": [
    {
     "name": "stdout",
     "output_type": "stream",
     "text": [
      "Enter a natural number:1\n",
      "1 is neigher prime nor composite\n"
     ]
    }
   ],
   "source": [
    "number=int(input(\"Enter a natural number:\"))\n",
    "if number < 1:\n",
    "    print(\"Number needs to be grater than 1\")\n",
    "elif number==1:\n",
    "    print(number,\"is neigher prime nor composite\")\n",
    "else:\n",
    "    for divisor in range(2,(number//2)+1):\n",
    "        if (number % divisor) ==0:\n",
    "            print (number,\"is a Composite Number\")\n",
    "            break\n",
    "    else:\n",
    "        print(number,\"is a prime Number\")"
   ]
  },
  {
   "cell_type": "code",
   "execution_count": 4,
   "id": "19ca8c66",
   "metadata": {},
   "outputs": [
    {
     "name": "stdout",
     "output_type": "stream",
     "text": [
      "Enter a natural number:4\n",
      "4 is a Composite Number\n"
     ]
    }
   ],
   "source": [
    "number=int(input(\"Enter a natural number:\"))\n",
    "if number < 1:\n",
    "    print(\"Number needs to be grater than 1\")\n",
    "elif number==1:\n",
    "    print(number,\"is neigher prime nor composite\")\n",
    "else:\n",
    "    for divisor in range(2,(number//2)+1):\n",
    "        if (number % divisor) ==0:\n",
    "            print (number,\"is a Composite Number\")\n",
    "            break\n",
    "    else:\n",
    "        print(number,\"is a prime Number\")"
   ]
  },
  {
   "cell_type": "code",
   "execution_count": 5,
   "id": "4528ead5",
   "metadata": {},
   "outputs": [
    {
     "name": "stdout",
     "output_type": "stream",
     "text": [
      "Enter a natural number:2\n",
      "2 is a prime Number\n"
     ]
    }
   ],
   "source": [
    "number=int(input(\"Enter a natural number:\"))\n",
    "if number < 1:\n",
    "    print(\"Number needs to be grater than 1\")\n",
    "elif number==1:\n",
    "    print(number,\"is neigher prime nor composite\")\n",
    "else:\n",
    "    for divisor in range(2,(number//2)+1):\n",
    "        if (number % divisor) ==0:\n",
    "            print (number,\"is a Composite Number\")\n",
    "            break\n",
    "    else:\n",
    "        print(number,\"is a prime Number\")"
   ]
  },
  {
   "cell_type": "code",
   "execution_count": null,
   "id": "be955a3e",
   "metadata": {},
   "outputs": [],
   "source": [
    "#Write a python program to check whether a given string is palindrome or not"
   ]
  },
  {
   "cell_type": "code",
   "execution_count": 7,
   "id": "9afcc5b7",
   "metadata": {},
   "outputs": [
    {
     "name": "stdout",
     "output_type": "stream",
     "text": [
      "enter string:tom\n",
      "Not Palindrome String\n"
     ]
    }
   ],
   "source": [
    "A=input(\"enter string:\")\n",
    "B=A[-1::-1]\n",
    "if(A==B):\n",
    "    print(\"Palindrome String\")\n",
    "else:\n",
    "    print(\"Not Palindrome String\")"
   ]
  },
  {
   "cell_type": "code",
   "execution_count": 9,
   "id": "08ec427c",
   "metadata": {},
   "outputs": [
    {
     "name": "stdout",
     "output_type": "stream",
     "text": [
      "enter string:mam\n",
      "Palindrome String\n"
     ]
    }
   ],
   "source": [
    "A=input(\"enter string:\")\n",
    "B=A[-1::-1]\n",
    "if(A==B):\n",
    "    print(\"Palindrome String\")\n",
    "else:\n",
    "    print(\"Not Palindrome String\")"
   ]
  },
  {
   "cell_type": "code",
   "execution_count": null,
   "id": "0a112df0",
   "metadata": {},
   "outputs": [],
   "source": [
    "#Write a Python program to get the third side of right-angled triangle from two given sides."
   ]
  },
  {
   "cell_type": "code",
   "execution_count": 10,
   "id": "5c6168b2",
   "metadata": {},
   "outputs": [
    {
     "name": "stdout",
     "output_type": "stream",
     "text": [
      "Input length of shorter triangle side:\n",
      "enter a: 4\n",
      "enter b: 6\n",
      "print the length of Hypotenuse: 7.211102550927978\n"
     ]
    }
   ],
   "source": [
    "from math import sqrt\n",
    "\n",
    "print(\"Input length of shorter triangle side:\")\n",
    "a = float(input(\"enter a: \"))\n",
    "b = float(input(\"enter b: \"))\n",
    "c = sqrt(a**2+b**2)\n",
    "print(\"print the length of Hypotenuse:\",c)"
   ]
  },
  {
   "cell_type": "code",
   "execution_count": null,
   "id": "67bfbfb2",
   "metadata": {},
   "outputs": [],
   "source": [
    "#Write a python program to print the frequency of each of the characters present in a given string."
   ]
  },
  {
   "cell_type": "code",
   "execution_count": 12,
   "id": "403de094",
   "metadata": {},
   "outputs": [
    {
     "name": "stdout",
     "output_type": "stream",
     "text": [
      "Enter the stringYYOOGGGGHHSJTTTT\n",
      "{'Y': 2, 'O': 2, 'G': 4, 'H': 2, 'S': 1, 'J': 1, 'T': 4}\n"
     ]
    }
   ],
   "source": [
    "str1 = input (\"Enter the string\")\n",
    "A1 = dict()\n",
    "for B in str1:\n",
    "    if B in A1:\n",
    "        A1[B] = A1[B]+1\n",
    "    else:\n",
    "        A1[B]=1\n",
    "print(A1)"
   ]
  },
  {
   "cell_type": "code",
   "execution_count": 13,
   "id": "f9ae2955",
   "metadata": {},
   "outputs": [
    {
     "name": "stdout",
     "output_type": "stream",
     "text": [
      "Enter the stringjhbdwjwjjjjjwww\n",
      "{'j': 7, 'h': 1, 'b': 1, 'd': 1, 'w': 5}\n"
     ]
    }
   ],
   "source": [
    "str1 = input (\"Enter the string\")\n",
    "A1 = dict()\n",
    "for B in str1:\n",
    "    A1[B]=A1.get(B,0)+1\n",
    "print(A1)"
   ]
  }
 ],
 "metadata": {
  "kernelspec": {
   "display_name": "Python 3",
   "language": "python",
   "name": "python3"
  },
  "language_info": {
   "codemirror_mode": {
    "name": "ipython",
    "version": 3
   },
   "file_extension": ".py",
   "mimetype": "text/x-python",
   "name": "python",
   "nbconvert_exporter": "python",
   "pygments_lexer": "ipython3",
   "version": "3.8.8"
  }
 },
 "nbformat": 4,
 "nbformat_minor": 5
}
